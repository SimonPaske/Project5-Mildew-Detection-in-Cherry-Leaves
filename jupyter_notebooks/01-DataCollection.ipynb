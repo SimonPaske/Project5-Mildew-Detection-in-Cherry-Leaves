{
 "cells": [
  {
   "cell_type": "markdown",
   "metadata": {},
   "source": [
    "# Data Collection"
   ]
  },
  {
   "cell_type": "markdown",
   "metadata": {},
   "source": [
    "## Objectives\n",
    "\n",
    "* Fetch data from Kaggle and prepare it for further processes.\n",
    "\n",
    "## Inputs\n",
    "\n",
    "*   Kaggle JSON file - the authentication token. \n",
    "\n",
    "## Outputs\n",
    "\n",
    "* Generate Dataset: inputs/datasets/cherry_leaves/\n"
   ]
  },
  {
   "cell_type": "markdown",
   "metadata": {},
   "source": [
    "# Import packages"
   ]
  },
  {
   "cell_type": "code",
   "execution_count": 2,
   "metadata": {},
   "outputs": [
    {
     "name": "stdout",
     "output_type": "stream",
     "text": [
      "/Users/simonpaske/Desktop/Project5-Mildew-Detection-in-Cherry-Leaves\n",
      "Defaulting to user installation because normal site-packages is not writeable\n",
      "Requirement already satisfied: numpy in /Users/simonpaske/Library/Python/3.9/lib/python/site-packages (from -r requirements.txt (line 1)) (1.26.3)\n",
      "Requirement already satisfied: pandas in /Users/simonpaske/Library/Python/3.9/lib/python/site-packages (from -r requirements.txt (line 2)) (2.1.4)\n",
      "Requirement already satisfied: matplotlib in /Users/simonpaske/Library/Python/3.9/lib/python/site-packages (from -r requirements.txt (line 3)) (3.8.2)\n",
      "Requirement already satisfied: seaborn in /Users/simonpaske/Library/Python/3.9/lib/python/site-packages (from -r requirements.txt (line 4)) (0.13.1)\n",
      "Requirement already satisfied: plotly in /Users/simonpaske/Library/Python/3.9/lib/python/site-packages (from -r requirements.txt (line 5)) (5.18.0)\n",
      "Requirement already satisfied: kaggle in /Users/simonpaske/Library/Python/3.9/lib/python/site-packages (from -r requirements.txt (line 6)) (1.6.0)\n",
      "Requirement already satisfied: streamlit in /Users/simonpaske/Library/Python/3.9/lib/python/site-packages (from -r requirements.txt (line 7)) (1.29.0)\n",
      "Requirement already satisfied: scikit-image in /Users/simonpaske/Library/Python/3.9/lib/python/site-packages (from -r requirements.txt (line 8)) (0.22.0)\n",
      "Requirement already satisfied: scikit-learn in /Users/simonpaske/Library/Python/3.9/lib/python/site-packages (from -r requirements.txt (line 9)) (1.3.2)\n",
      "Requirement already satisfied: tensorflow>=2.12.0 in /Users/simonpaske/Library/Python/3.9/lib/python/site-packages (from -r requirements.txt (line 10)) (2.15.0)\n",
      "Requirement already satisfied: keras in /Users/simonpaske/Library/Python/3.9/lib/python/site-packages (from -r requirements.txt (line 12)) (2.15.0)\n",
      "Requirement already satisfied: protobuf in /Users/simonpaske/Library/Python/3.9/lib/python/site-packages (from -r requirements.txt (line 13)) (4.23.4)\n",
      "Requirement already satisfied: altair in /Users/simonpaske/Library/Python/3.9/lib/python/site-packages (from -r requirements.txt (line 14)) (5.2.0)\n",
      "Requirement already satisfied: python-dateutil>=2.8.2 in /Users/simonpaske/Library/Python/3.9/lib/python/site-packages (from pandas->-r requirements.txt (line 2)) (2.8.2)\n",
      "Requirement already satisfied: pytz>=2020.1 in /Users/simonpaske/Library/Python/3.9/lib/python/site-packages (from pandas->-r requirements.txt (line 2)) (2023.3.post1)\n",
      "Requirement already satisfied: tzdata>=2022.1 in /Users/simonpaske/Library/Python/3.9/lib/python/site-packages (from pandas->-r requirements.txt (line 2)) (2023.4)\n",
      "Requirement already satisfied: contourpy>=1.0.1 in /Users/simonpaske/Library/Python/3.9/lib/python/site-packages (from matplotlib->-r requirements.txt (line 3)) (1.2.0)\n",
      "Requirement already satisfied: cycler>=0.10 in /Users/simonpaske/Library/Python/3.9/lib/python/site-packages (from matplotlib->-r requirements.txt (line 3)) (0.12.1)\n",
      "Requirement already satisfied: fonttools>=4.22.0 in /Users/simonpaske/Library/Python/3.9/lib/python/site-packages (from matplotlib->-r requirements.txt (line 3)) (4.47.0)\n",
      "Requirement already satisfied: kiwisolver>=1.3.1 in /Users/simonpaske/Library/Python/3.9/lib/python/site-packages (from matplotlib->-r requirements.txt (line 3)) (1.4.5)\n",
      "Requirement already satisfied: packaging>=20.0 in /Users/simonpaske/Library/Python/3.9/lib/python/site-packages (from matplotlib->-r requirements.txt (line 3)) (23.2)\n",
      "Requirement already satisfied: pillow>=8 in /Users/simonpaske/Library/Python/3.9/lib/python/site-packages (from matplotlib->-r requirements.txt (line 3)) (10.2.0)\n",
      "Requirement already satisfied: pyparsing>=2.3.1 in /Users/simonpaske/Library/Python/3.9/lib/python/site-packages (from matplotlib->-r requirements.txt (line 3)) (3.1.1)\n",
      "Requirement already satisfied: importlib-resources>=3.2.0 in /Users/simonpaske/Library/Python/3.9/lib/python/site-packages (from matplotlib->-r requirements.txt (line 3)) (6.1.1)\n",
      "Requirement already satisfied: tenacity>=6.2.0 in /Users/simonpaske/Library/Python/3.9/lib/python/site-packages (from plotly->-r requirements.txt (line 5)) (8.2.3)\n",
      "Requirement already satisfied: six>=1.10 in /Users/simonpaske/Library/Python/3.9/lib/python/site-packages (from kaggle->-r requirements.txt (line 6)) (1.16.0)\n",
      "Requirement already satisfied: certifi in /Users/simonpaske/Library/Python/3.9/lib/python/site-packages (from kaggle->-r requirements.txt (line 6)) (2023.11.17)\n",
      "Requirement already satisfied: requests in /Users/simonpaske/Library/Python/3.9/lib/python/site-packages (from kaggle->-r requirements.txt (line 6)) (2.31.0)\n",
      "Requirement already satisfied: tqdm in /Users/simonpaske/Library/Python/3.9/lib/python/site-packages (from kaggle->-r requirements.txt (line 6)) (4.66.1)\n",
      "Requirement already satisfied: python-slugify in /Users/simonpaske/Library/Python/3.9/lib/python/site-packages (from kaggle->-r requirements.txt (line 6)) (8.0.1)\n",
      "Requirement already satisfied: urllib3 in /Users/simonpaske/Library/Python/3.9/lib/python/site-packages (from kaggle->-r requirements.txt (line 6)) (2.1.0)\n",
      "Requirement already satisfied: bleach in /Users/simonpaske/Library/Python/3.9/lib/python/site-packages (from kaggle->-r requirements.txt (line 6)) (6.1.0)\n",
      "Requirement already satisfied: blinker<2,>=1.0.0 in /Users/simonpaske/Library/Python/3.9/lib/python/site-packages (from streamlit->-r requirements.txt (line 7)) (1.7.0)\n",
      "Requirement already satisfied: cachetools<6,>=4.0 in /Users/simonpaske/Library/Python/3.9/lib/python/site-packages (from streamlit->-r requirements.txt (line 7)) (5.3.2)\n",
      "Requirement already satisfied: click<9,>=7.0 in /Users/simonpaske/Library/Python/3.9/lib/python/site-packages (from streamlit->-r requirements.txt (line 7)) (8.1.7)\n",
      "Requirement already satisfied: importlib-metadata<7,>=1.4 in /Users/simonpaske/Library/Python/3.9/lib/python/site-packages (from streamlit->-r requirements.txt (line 7)) (6.11.0)\n",
      "Requirement already satisfied: pyarrow>=6.0 in /Users/simonpaske/Library/Python/3.9/lib/python/site-packages (from streamlit->-r requirements.txt (line 7)) (14.0.2)\n",
      "Requirement already satisfied: rich<14,>=10.14.0 in /Users/simonpaske/Library/Python/3.9/lib/python/site-packages (from streamlit->-r requirements.txt (line 7)) (13.7.0)\n",
      "Requirement already satisfied: toml<2,>=0.10.1 in /Users/simonpaske/Library/Python/3.9/lib/python/site-packages (from streamlit->-r requirements.txt (line 7)) (0.10.2)\n",
      "Requirement already satisfied: typing-extensions<5,>=4.3.0 in /Users/simonpaske/Library/Python/3.9/lib/python/site-packages (from streamlit->-r requirements.txt (line 7)) (4.9.0)\n",
      "Requirement already satisfied: tzlocal<6,>=1.1 in /Users/simonpaske/Library/Python/3.9/lib/python/site-packages (from streamlit->-r requirements.txt (line 7)) (5.2)\n",
      "Requirement already satisfied: validators<1,>=0.2 in /Users/simonpaske/Library/Python/3.9/lib/python/site-packages (from streamlit->-r requirements.txt (line 7)) (0.22.0)\n",
      "Requirement already satisfied: gitpython!=3.1.19,<4,>=3.0.7 in /Users/simonpaske/Library/Python/3.9/lib/python/site-packages (from streamlit->-r requirements.txt (line 7)) (3.1.40)\n",
      "Requirement already satisfied: pydeck<1,>=0.8.0b4 in /Users/simonpaske/Library/Python/3.9/lib/python/site-packages (from streamlit->-r requirements.txt (line 7)) (0.8.1b0)\n",
      "Requirement already satisfied: tornado<7,>=6.0.3 in /Users/simonpaske/Library/Python/3.9/lib/python/site-packages (from streamlit->-r requirements.txt (line 7)) (6.4)\n",
      "Requirement already satisfied: scipy>=1.8 in /Users/simonpaske/Library/Python/3.9/lib/python/site-packages (from scikit-image->-r requirements.txt (line 8)) (1.11.4)\n",
      "Requirement already satisfied: networkx>=2.8 in /Users/simonpaske/Library/Python/3.9/lib/python/site-packages (from scikit-image->-r requirements.txt (line 8)) (3.2.1)\n",
      "Requirement already satisfied: imageio>=2.27 in /Users/simonpaske/Library/Python/3.9/lib/python/site-packages (from scikit-image->-r requirements.txt (line 8)) (2.33.1)\n",
      "Requirement already satisfied: tifffile>=2022.8.12 in /Users/simonpaske/Library/Python/3.9/lib/python/site-packages (from scikit-image->-r requirements.txt (line 8)) (2023.12.9)\n",
      "Requirement already satisfied: lazy_loader>=0.3 in /Users/simonpaske/Library/Python/3.9/lib/python/site-packages (from scikit-image->-r requirements.txt (line 8)) (0.3)\n",
      "Requirement already satisfied: joblib>=1.1.1 in /Users/simonpaske/Library/Python/3.9/lib/python/site-packages (from scikit-learn->-r requirements.txt (line 9)) (1.3.2)\n",
      "Requirement already satisfied: threadpoolctl>=2.0.0 in /Users/simonpaske/Library/Python/3.9/lib/python/site-packages (from scikit-learn->-r requirements.txt (line 9)) (3.2.0)\n",
      "Requirement already satisfied: tensorflow-macos==2.15.0 in /Users/simonpaske/Library/Python/3.9/lib/python/site-packages (from tensorflow>=2.12.0->-r requirements.txt (line 10)) (2.15.0)\n",
      "Requirement already satisfied: absl-py>=1.0.0 in /Users/simonpaske/Library/Python/3.9/lib/python/site-packages (from tensorflow-macos==2.15.0->tensorflow>=2.12.0->-r requirements.txt (line 10)) (2.0.0)\n",
      "Requirement already satisfied: astunparse>=1.6.0 in /Users/simonpaske/Library/Python/3.9/lib/python/site-packages (from tensorflow-macos==2.15.0->tensorflow>=2.12.0->-r requirements.txt (line 10)) (1.6.3)\n",
      "Requirement already satisfied: flatbuffers>=23.5.26 in /Users/simonpaske/Library/Python/3.9/lib/python/site-packages (from tensorflow-macos==2.15.0->tensorflow>=2.12.0->-r requirements.txt (line 10)) (23.5.26)\n",
      "Requirement already satisfied: gast!=0.5.0,!=0.5.1,!=0.5.2,>=0.2.1 in /Users/simonpaske/Library/Python/3.9/lib/python/site-packages (from tensorflow-macos==2.15.0->tensorflow>=2.12.0->-r requirements.txt (line 10)) (0.5.4)\n",
      "Requirement already satisfied: google-pasta>=0.1.1 in /Users/simonpaske/Library/Python/3.9/lib/python/site-packages (from tensorflow-macos==2.15.0->tensorflow>=2.12.0->-r requirements.txt (line 10)) (0.2.0)\n",
      "Requirement already satisfied: h5py>=2.9.0 in /Users/simonpaske/Library/Python/3.9/lib/python/site-packages (from tensorflow-macos==2.15.0->tensorflow>=2.12.0->-r requirements.txt (line 10)) (3.10.0)\n",
      "Requirement already satisfied: libclang>=13.0.0 in /Users/simonpaske/Library/Python/3.9/lib/python/site-packages (from tensorflow-macos==2.15.0->tensorflow>=2.12.0->-r requirements.txt (line 10)) (16.0.6)\n",
      "Requirement already satisfied: ml-dtypes~=0.2.0 in /Users/simonpaske/Library/Python/3.9/lib/python/site-packages (from tensorflow-macos==2.15.0->tensorflow>=2.12.0->-r requirements.txt (line 10)) (0.2.0)\n",
      "Requirement already satisfied: opt-einsum>=2.3.2 in /Users/simonpaske/Library/Python/3.9/lib/python/site-packages (from tensorflow-macos==2.15.0->tensorflow>=2.12.0->-r requirements.txt (line 10)) (3.3.0)\n",
      "Requirement already satisfied: setuptools in /Users/simonpaske/Library/Python/3.9/lib/python/site-packages (from tensorflow-macos==2.15.0->tensorflow>=2.12.0->-r requirements.txt (line 10)) (69.0.3)\n",
      "Requirement already satisfied: termcolor>=1.1.0 in /Users/simonpaske/Library/Python/3.9/lib/python/site-packages (from tensorflow-macos==2.15.0->tensorflow>=2.12.0->-r requirements.txt (line 10)) (2.4.0)\n",
      "Requirement already satisfied: wrapt<1.15,>=1.11.0 in /Users/simonpaske/Library/Python/3.9/lib/python/site-packages (from tensorflow-macos==2.15.0->tensorflow>=2.12.0->-r requirements.txt (line 10)) (1.14.1)\n",
      "Requirement already satisfied: tensorflow-io-gcs-filesystem>=0.23.1 in /Users/simonpaske/Library/Python/3.9/lib/python/site-packages (from tensorflow-macos==2.15.0->tensorflow>=2.12.0->-r requirements.txt (line 10)) (0.34.0)\n",
      "Requirement already satisfied: grpcio<2.0,>=1.24.3 in /Users/simonpaske/Library/Python/3.9/lib/python/site-packages (from tensorflow-macos==2.15.0->tensorflow>=2.12.0->-r requirements.txt (line 10)) (1.60.0)\n",
      "Requirement already satisfied: tensorboard<2.16,>=2.15 in /Users/simonpaske/Library/Python/3.9/lib/python/site-packages (from tensorflow-macos==2.15.0->tensorflow>=2.12.0->-r requirements.txt (line 10)) (2.15.1)\n",
      "Requirement already satisfied: tensorflow-estimator<2.16,>=2.15.0 in /Users/simonpaske/Library/Python/3.9/lib/python/site-packages (from tensorflow-macos==2.15.0->tensorflow>=2.12.0->-r requirements.txt (line 10)) (2.15.0)\n",
      "Requirement already satisfied: jinja2 in /Users/simonpaske/Library/Python/3.9/lib/python/site-packages (from altair->-r requirements.txt (line 14)) (3.1.2)\n",
      "Requirement already satisfied: jsonschema>=3.0 in /Users/simonpaske/Library/Python/3.9/lib/python/site-packages (from altair->-r requirements.txt (line 14)) (4.20.0)\n",
      "Requirement already satisfied: toolz in /Users/simonpaske/Library/Python/3.9/lib/python/site-packages (from altair->-r requirements.txt (line 14)) (0.12.0)\n",
      "Requirement already satisfied: gitdb<5,>=4.0.1 in /Users/simonpaske/Library/Python/3.9/lib/python/site-packages (from gitpython!=3.1.19,<4,>=3.0.7->streamlit->-r requirements.txt (line 7)) (4.0.11)\n",
      "Requirement already satisfied: zipp>=0.5 in /Users/simonpaske/Library/Python/3.9/lib/python/site-packages (from importlib-metadata<7,>=1.4->streamlit->-r requirements.txt (line 7)) (3.17.0)\n",
      "Requirement already satisfied: attrs>=22.2.0 in /Users/simonpaske/Library/Python/3.9/lib/python/site-packages (from jsonschema>=3.0->altair->-r requirements.txt (line 14)) (23.2.0)\n",
      "Requirement already satisfied: jsonschema-specifications>=2023.03.6 in /Users/simonpaske/Library/Python/3.9/lib/python/site-packages (from jsonschema>=3.0->altair->-r requirements.txt (line 14)) (2023.12.1)\n",
      "Requirement already satisfied: referencing>=0.28.4 in /Users/simonpaske/Library/Python/3.9/lib/python/site-packages (from jsonschema>=3.0->altair->-r requirements.txt (line 14)) (0.32.0)\n",
      "Requirement already satisfied: rpds-py>=0.7.1 in /Users/simonpaske/Library/Python/3.9/lib/python/site-packages (from jsonschema>=3.0->altair->-r requirements.txt (line 14)) (0.16.2)\n",
      "Requirement already satisfied: MarkupSafe>=2.0 in /Users/simonpaske/Library/Python/3.9/lib/python/site-packages (from jinja2->altair->-r requirements.txt (line 14)) (2.1.3)\n",
      "Requirement already satisfied: charset-normalizer<4,>=2 in /Users/simonpaske/Library/Python/3.9/lib/python/site-packages (from requests->kaggle->-r requirements.txt (line 6)) (3.3.2)\n",
      "Requirement already satisfied: idna<4,>=2.5 in /Users/simonpaske/Library/Python/3.9/lib/python/site-packages (from requests->kaggle->-r requirements.txt (line 6)) (3.6)\n",
      "Requirement already satisfied: markdown-it-py>=2.2.0 in /Users/simonpaske/Library/Python/3.9/lib/python/site-packages (from rich<14,>=10.14.0->streamlit->-r requirements.txt (line 7)) (3.0.0)\n",
      "Requirement already satisfied: pygments<3.0.0,>=2.13.0 in /Users/simonpaske/Library/Python/3.9/lib/python/site-packages (from rich<14,>=10.14.0->streamlit->-r requirements.txt (line 7)) (2.17.2)\n",
      "Requirement already satisfied: webencodings in /Users/simonpaske/Library/Python/3.9/lib/python/site-packages (from bleach->kaggle->-r requirements.txt (line 6)) (0.5.1)\n",
      "Requirement already satisfied: text-unidecode>=1.3 in /Users/simonpaske/Library/Python/3.9/lib/python/site-packages (from python-slugify->kaggle->-r requirements.txt (line 6)) (1.3)\n",
      "Requirement already satisfied: wheel<1.0,>=0.23.0 in /Users/simonpaske/Library/Python/3.9/lib/python/site-packages (from astunparse>=1.6.0->tensorflow-macos==2.15.0->tensorflow>=2.12.0->-r requirements.txt (line 10)) (0.42.0)\n",
      "Requirement already satisfied: smmap<6,>=3.0.1 in /Users/simonpaske/Library/Python/3.9/lib/python/site-packages (from gitdb<5,>=4.0.1->gitpython!=3.1.19,<4,>=3.0.7->streamlit->-r requirements.txt (line 7)) (5.0.1)\n",
      "Requirement already satisfied: mdurl~=0.1 in /Users/simonpaske/Library/Python/3.9/lib/python/site-packages (from markdown-it-py>=2.2.0->rich<14,>=10.14.0->streamlit->-r requirements.txt (line 7)) (0.1.2)\n",
      "Requirement already satisfied: google-auth<3,>=1.6.3 in /Users/simonpaske/Library/Python/3.9/lib/python/site-packages (from tensorboard<2.16,>=2.15->tensorflow-macos==2.15.0->tensorflow>=2.12.0->-r requirements.txt (line 10)) (2.26.1)\n",
      "Requirement already satisfied: google-auth-oauthlib<2,>=0.5 in /Users/simonpaske/Library/Python/3.9/lib/python/site-packages (from tensorboard<2.16,>=2.15->tensorflow-macos==2.15.0->tensorflow>=2.12.0->-r requirements.txt (line 10)) (1.2.0)\n",
      "Requirement already satisfied: markdown>=2.6.8 in /Users/simonpaske/Library/Python/3.9/lib/python/site-packages (from tensorboard<2.16,>=2.15->tensorflow-macos==2.15.0->tensorflow>=2.12.0->-r requirements.txt (line 10)) (3.5.1)\n",
      "Requirement already satisfied: tensorboard-data-server<0.8.0,>=0.7.0 in /Users/simonpaske/Library/Python/3.9/lib/python/site-packages (from tensorboard<2.16,>=2.15->tensorflow-macos==2.15.0->tensorflow>=2.12.0->-r requirements.txt (line 10)) (0.7.2)\n",
      "Requirement already satisfied: werkzeug>=1.0.1 in /Users/simonpaske/Library/Python/3.9/lib/python/site-packages (from tensorboard<2.16,>=2.15->tensorflow-macos==2.15.0->tensorflow>=2.12.0->-r requirements.txt (line 10)) (3.0.1)\n",
      "Requirement already satisfied: pyasn1-modules>=0.2.1 in /Users/simonpaske/Library/Python/3.9/lib/python/site-packages (from google-auth<3,>=1.6.3->tensorboard<2.16,>=2.15->tensorflow-macos==2.15.0->tensorflow>=2.12.0->-r requirements.txt (line 10)) (0.3.0)\n",
      "Requirement already satisfied: rsa<5,>=3.1.4 in /Users/simonpaske/Library/Python/3.9/lib/python/site-packages (from google-auth<3,>=1.6.3->tensorboard<2.16,>=2.15->tensorflow-macos==2.15.0->tensorflow>=2.12.0->-r requirements.txt (line 10)) (4.9)\n",
      "Requirement already satisfied: requests-oauthlib>=0.7.0 in /Users/simonpaske/Library/Python/3.9/lib/python/site-packages (from google-auth-oauthlib<2,>=0.5->tensorboard<2.16,>=2.15->tensorflow-macos==2.15.0->tensorflow>=2.12.0->-r requirements.txt (line 10)) (1.3.1)\n",
      "Requirement already satisfied: pyasn1<0.6.0,>=0.4.6 in /Users/simonpaske/Library/Python/3.9/lib/python/site-packages (from pyasn1-modules>=0.2.1->google-auth<3,>=1.6.3->tensorboard<2.16,>=2.15->tensorflow-macos==2.15.0->tensorflow>=2.12.0->-r requirements.txt (line 10)) (0.5.1)\n",
      "Requirement already satisfied: oauthlib>=3.0.0 in /Users/simonpaske/Library/Python/3.9/lib/python/site-packages (from requests-oauthlib>=0.7.0->google-auth-oauthlib<2,>=0.5->tensorboard<2.16,>=2.15->tensorflow-macos==2.15.0->tensorflow>=2.12.0->-r requirements.txt (line 10)) (3.2.2)\n",
      "Note: you may need to restart the kernel to use updated packages.\n"
     ]
    }
   ],
   "source": [
    "# Use the %cd magic command to change the current directory to the location of requirements.txt\n",
    "%cd /Users/simonpaske/Desktop/Project5-Mildew-Detection-in-Cherry-Leaves/\n",
    "# Use the !pip command to install the dependencies from the requirements.txt file\n",
    "%pip install -r requirements.txt"
   ]
  },
  {
   "cell_type": "code",
   "execution_count": 3,
   "metadata": {},
   "outputs": [],
   "source": [
    "import numpy\n",
    "import os"
   ]
  },
  {
   "cell_type": "markdown",
   "metadata": {},
   "source": [
    "# Change working directory"
   ]
  },
  {
   "cell_type": "code",
   "execution_count": 4,
   "metadata": {},
   "outputs": [
    {
     "data": {
      "text/plain": [
       "'/Users/simonpaske/Desktop/Project5-Mildew-Detection-in-Cherry-Leaves'"
      ]
     },
     "execution_count": 4,
     "metadata": {},
     "output_type": "execute_result"
    }
   ],
   "source": [
    "current_dir = os.getcwd()\n",
    "current_dir"
   ]
  },
  {
   "cell_type": "markdown",
   "metadata": {},
   "source": [
    "We want to make the parent of the current directory the new current directory.\n",
    "* os.path.dirname() gets the parent directory\n",
    "* os.chir() defines the new current directory"
   ]
  },
  {
   "cell_type": "code",
   "execution_count": 5,
   "metadata": {},
   "outputs": [
    {
     "name": "stdout",
     "output_type": "stream",
     "text": [
      "You set a new current directory\n"
     ]
    }
   ],
   "source": [
    "os.chdir('/Users/simonpaske/Desktop/Project5-Mildew-Detection-in-Cherry-Leaves/')\n",
    "print(\"You set a new current directory\")"
   ]
  },
  {
   "cell_type": "code",
   "execution_count": 6,
   "metadata": {},
   "outputs": [
    {
     "data": {
      "text/plain": [
       "'/Users/simonpaske/Desktop/Project5-Mildew-Detection-in-Cherry-Leaves'"
      ]
     },
     "execution_count": 6,
     "metadata": {},
     "output_type": "execute_result"
    }
   ],
   "source": [
    "current_dir = os.getcwd()\n",
    "current_dir"
   ]
  },
  {
   "cell_type": "markdown",
   "metadata": {},
   "source": [
    "Run the cell below **to change the Kaggle configuration directory to the current working directory and set permissions for the Kaggle authentication JSON**."
   ]
  },
  {
   "cell_type": "code",
   "execution_count": 7,
   "metadata": {},
   "outputs": [],
   "source": [
    "os.environ['KAGGLE_CONFIG_DIR'] = os.getcwd()\n",
    "\n",
    "!chmod 600 kaggle.json"
   ]
  },
  {
   "cell_type": "markdown",
   "metadata": {},
   "source": [
    "Set the Kaggle Dataset destination directory"
   ]
  },
  {
   "cell_type": "code",
   "execution_count": 8,
   "metadata": {},
   "outputs": [],
   "source": [
    "DestinationFolder = \"inputs/datasets/\"\n",
    "os.makedirs(DestinationFolder, exist_ok=True)"
   ]
  },
  {
   "cell_type": "markdown",
   "metadata": {},
   "source": [
    "Download the dataset from Kaggle and add it to the destination directory\n",
    "https://www.kaggle.com/codeinstitute/cherry-leaves"
   ]
  },
  {
   "cell_type": "markdown",
   "metadata": {},
   "source": [
    "Unzip the downloaded file, and delete the zip file."
   ]
  },
  {
   "cell_type": "code",
   "execution_count": 9,
   "metadata": {},
   "outputs": [],
   "source": [
    "import zipfile\n",
    "with zipfile.ZipFile(DestinationFolder + '/cherry_leaves.zip', 'r') as zip_ref:\n",
    "    zip_ref.extractall(DestinationFolder)\n",
    "\n",
    "os.remove(DestinationFolder + '/cherry_leaves.zip')"
   ]
  },
  {
   "cell_type": "markdown",
   "metadata": {},
   "source": [
    "# Data Preparation"
   ]
  },
  {
   "cell_type": "markdown",
   "metadata": {},
   "source": [
    "## Data cleaning"
   ]
  },
  {
   "cell_type": "markdown",
   "metadata": {},
   "source": [
    "### Check and remove non-image files"
   ]
  },
  {
   "cell_type": "code",
   "execution_count": 10,
   "metadata": {},
   "outputs": [
    {
     "name": "stdout",
     "output_type": "stream",
     "text": [
      "Folder: powdery_mildew - has image files: 2104\n",
      "Folder: powdery_mildew - has non-image files: 0\n",
      "Folder: healthy - has image files: 2104\n",
      "Folder: healthy - has non-image files: 0\n"
     ]
    }
   ],
   "source": [
    "def remove_non_image_files(data_dir):\n",
    "    image_extensions = ('.png', '.jpg', '.jpeg')\n",
    "\n",
    "    folders = [folder for folder in os.listdir(data_dir) if os.path.isdir(os.path.join(data_dir, folder))]\n",
    "\n",
    "    for folder in folders:\n",
    "        folder_path = os.path.join(data_dir, folder)\n",
    "        files = os.listdir(folder_path)\n",
    "\n",
    "        image_count = 0\n",
    "        non_image_count = 0\n",
    "\n",
    "        for file_name in files:\n",
    "            file_path = os.path.join(folder_path, file_name)\n",
    "\n",
    "            if os.path.isfile(file_path) and not file_name.lower().endswith(image_extensions):\n",
    "                os.remove(file_path)  # Remove non-image file\n",
    "                non_image_count += 1\n",
    "            elif os.path.isfile(file_path):\n",
    "                image_count += 1\n",
    "\n",
    "        print(f\"Folder: {folder} - has image files: {image_count}\")\n",
    "        print(f\"Folder: {folder} - has non-image files: {non_image_count}\")\n",
    "\n",
    "\n",
    "data_dir = 'inputs/datasets/cherry-leaves'\n",
    "remove_non_image_files(data_dir)"
   ]
  },
  {
   "cell_type": "markdown",
   "metadata": {},
   "source": [
    "### Resize images"
   ]
  },
  {
   "cell_type": "code",
   "execution_count": 14,
   "metadata": {},
   "outputs": [
    {
     "name": "stdout",
     "output_type": "stream",
     "text": [
      "Image resizing and overwriting completed.\n"
     ]
    }
   ],
   "source": [
    "from PIL import Image\n",
    "import os\n",
    "\n",
    "data_dir = 'inputs/datasets/cherry-leaves'\n",
    "labels = ['healthy', 'powdery_mildew']\n",
    "target_shape = (100, 100, 3)\n",
    "\n",
    "for label in labels:\n",
    "    label_path = os.path.join(data_dir, label)\n",
    "    \n",
    "    for img_file in os.listdir(label_path):\n",
    "        img_path = os.path.join(label_path, img_file)\n",
    "        \n",
    "        # Open the image using PIL\n",
    "        img = Image.open(img_path)\n",
    "        \n",
    "        # Resize the image to the target shape\n",
    "        img_resized = img.resize((target_shape[1], target_shape[0]))\n",
    "        \n",
    "        # Save the resized image back to the original path, overwriting the original\n",
    "        img_resized.save(img_path)\n",
    "        \n",
    "print(\"Image resizing and overwriting completed.\")\n"
   ]
  },
  {
   "cell_type": "code",
   "execution_count": 15,
   "metadata": {},
   "outputs": [
    {
     "name": "stdout",
     "output_type": "stream",
     "text": [
      "Image size: (100, 100)\n"
     ]
    }
   ],
   "source": [
    "from PIL import Image\n",
    "\n",
    "# Open the image\n",
    "img_path = img_path = os.path.join(label_path, img_file)\n",
    "img = Image.open(img_path)\n",
    "\n",
    "# Get the size (width x height) of the image\n",
    "img_size = img.size\n",
    "print(\"Image size:\", img_size)\n"
   ]
  },
  {
   "cell_type": "markdown",
   "metadata": {},
   "source": []
  },
  {
   "cell_type": "markdown",
   "metadata": {},
   "source": [
    "## Split train validation test set and delete empty folders"
   ]
  },
  {
   "cell_type": "code",
   "execution_count": 16,
   "metadata": {},
   "outputs": [],
   "source": [
    "import os\n",
    "import shutil\n",
    "import random\n",
    "\n",
    "def is_image_file(file_name):\n",
    "    return file_name.lower().endswith(('.png', '.jpg', '.jpeg'))\n",
    "\n",
    "def split_dataset(data_dir, output_path, train_size=0.7, valid_size=0.1, test_size=0.2, preserve_structure=True):\n",
    "    # Check if train + test + valid size is equal to 1\n",
    "    assert train_size + valid_size + test_size == 1\n",
    "\n",
    "    # Get the list of all items (directories or files)\n",
    "    all_items = [item for item in os.listdir(data_dir) if os.path.isdir(os.path.join(data_dir, item))]\n",
    "\n",
    "    # Filter out non-directory items (like .DS_Store)\n",
    "    classes = [item for item in all_items if os.path.isdir(os.path.join(data_dir, item))]\n",
    "\n",
    "    # Get the list of all images\n",
    "    images = []\n",
    "    for class_name in classes:\n",
    "        class_path = os.path.join(data_dir, class_name)\n",
    "        class_images = [os.path.join(class_path, file_name) for file_name in os.listdir(class_path) if is_image_file(file_name)]\n",
    "        images.extend(class_images)\n",
    "\n",
    "    # Shuffle the images\n",
    "    random.shuffle(images)\n",
    "\n",
    "    # Split the images into train, test, and validation sets\n",
    "    train_end_index = int(train_size * len(images))\n",
    "    valid_end_index = int(valid_size * len(images)) + train_end_index\n",
    "\n",
    "    train_images = images[:train_end_index]\n",
    "    valid_images = images[train_end_index:valid_end_index]\n",
    "    test_images = images[valid_end_index:]\n",
    "\n",
    "    # Move images to corresponding folders with subfolders 'Healthy' and 'Powdery_Mildew'\n",
    "    for split, split_images in zip(['train', 'validation', 'test'], [train_images, valid_images, test_images]):\n",
    "        split_path = os.path.join(output_path, split)\n",
    "        os.makedirs(split_path, exist_ok=True)\n",
    "\n",
    "        for image_path in split_images:\n",
    "            image_name = os.path.basename(image_path)\n",
    "            # Determine class (Healthy or Powdery_Mildew) based on the image path\n",
    "            class_name = 'healthy' if 'healthy' in image_path.lower() else 'powdery_mildew'\n",
    "            class_path = os.path.join(split_path, class_name)\n",
    "            os.makedirs(class_path, exist_ok=True)\n",
    "            destination_path = os.path.join(class_path, image_name)\n",
    "            shutil.move(image_path, destination_path)\n",
    "\n",
    "    # Remove empty folders\n",
    "    for class_name in classes:\n",
    "        class_path = os.path.join(data_dir, class_name)\n",
    "        if not os.listdir(class_path):\n",
    "            os.rmdir(class_path)\n",
    "\n",
    "    return train_images, valid_images, test_images\n",
    "\n",
    "data_dir = 'inputs/datasets/cherry-leaves'\n",
    "output_path = 'inputs/datasets/cherry-leaves'\n",
    "train_images, valid_images, test_images = split_dataset(data_dir, output_path)\n"
   ]
  },
  {
   "cell_type": "code",
   "execution_count": 17,
   "metadata": {},
   "outputs": [
    {
     "name": "stdout",
     "output_type": "stream",
     "text": [
      "Train set: 2945 \n",
      "test images: 843 \n",
      "validation images: 420\n"
     ]
    }
   ],
   "source": [
    "print('Train set:', len(train_images), '\\n' 'test images:', len(test_images), '\\n' 'validation images:', len(valid_images))"
   ]
  }
 ],
 "metadata": {
  "kernelspec": {
   "display_name": "Python 3",
   "language": "python",
   "name": "python3"
  },
  "language_info": {
   "codemirror_mode": {
    "name": "ipython",
    "version": 3
   },
   "file_extension": ".py",
   "mimetype": "text/x-python",
   "name": "python",
   "nbconvert_exporter": "python",
   "pygments_lexer": "ipython3",
   "version": "3.9.6"
  }
 },
 "nbformat": 4,
 "nbformat_minor": 2
}
